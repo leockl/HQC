{
 "cells": [
  {
   "cell_type": "code",
   "execution_count": 1,
   "metadata": {},
   "outputs": [],
   "source": [
    "import numpy as np\n",
    "from itertools import product\n",
    "from joblib import Parallel, delayed\n",
    "from functools import reduce\n",
    "from operator import mul\n",
    "from numba import jit, prange"
   ]
  },
  {
   "cell_type": "code",
   "execution_count": 16,
   "metadata": {},
   "outputs": [],
   "source": [
    "lst = [[1.0, 2, 3], [4, 5, 6], [7, 8, 9]]\n",
    "arr = np.array(lst)\n",
    "n = 4"
   ]
  },
  {
   "cell_type": "code",
   "execution_count": 17,
   "metadata": {},
   "outputs": [],
   "source": [
    "# Using mul with parallelisation\n",
    "def test1(arr, n):\n",
    "    flat = np.ravel(arr).tolist()\n",
    "    gen = (list(a) for a in product(flat, repeat=n))\n",
    "\n",
    "    results = np.array(Parallel(n_jobs=-1)(delayed(reduce)(mul, x) for x in gen))\n",
    "\n",
    "    nrows = arr.shape[0]\n",
    "    ncols = arr.shape[1]\n",
    "\n",
    "    arr3d = results.reshape((nrows, ncols)*n)\n",
    "\n",
    "    arrparmeth1 = arr3d\n",
    "    for i in range(0,n-1):\n",
    "        arrparmeth1 = np.concatenate(np.concatenate(arrparmeth1 , axis=1), axis=1)\n",
    "    \n",
    "    return arrparmeth1"
   ]
  },
  {
   "cell_type": "code",
   "execution_count": 18,
   "metadata": {},
   "outputs": [],
   "source": [
    "# Using numba (including Intel SVML) with parallelisation\n",
    "def test2(arr, n):\n",
    "    flat = np.ravel(arr).tolist()\n",
    "    gen = np.array([list(a) for a in product(flat, repeat=n)])\n",
    "    \n",
    "    @jit(nopython=True, parallel=True)\n",
    "    def mtp(gen):\n",
    "        nrows_gen = gen.shape[0]\n",
    "        results = np.empty(nrows_gen)\n",
    "#        def op(x, y):                     # numba with parallel=True does not work with mul\n",
    "#            return mul(x, y)\n",
    "        for i in prange(0,nrows_gen):\n",
    "            results[i] = np.prod(gen[i])\n",
    "        return results\n",
    "    \n",
    "    nrows = arr.shape[0]\n",
    "    ncols = arr.shape[1]\n",
    "\n",
    "    arr3d = mtp(gen).reshape((nrows, ncols)*n)\n",
    "\n",
    "#    @jit(nopython=True, parallel=True)    # numba with parallel=True does not work with nested concatenate\n",
    "#    @jit                                  # numba does not work with the code below\n",
    "    def con(arr3d):\n",
    "        arrparmeth1 = arr3d\n",
    "        for i in prange(0,n-1):\n",
    "            arrparmeth1 = np.concatenate(np.concatenate(arrparmeth1 , axis=1), axis=1)\n",
    "        return arrparmeth1\n",
    "    return con(arr3d)"
   ]
  },
  {
   "cell_type": "code",
   "execution_count": 19,
   "metadata": {},
   "outputs": [],
   "source": [
    "# Using numba (including Intel SVML) with np.kron\n",
    "def test3(arr, n):\n",
    "#    @jit(nopython=True, parallel=True)    # numba with parallel=True does not work with kron\n",
    "    @jit\n",
    "    def testkron(arr, n):\n",
    "        arr_copy = arr\n",
    "        for j in prange(0,n-1):\n",
    "            arr = np.kron(arr, arr_copy)\n",
    "        arrkronmeth = arr\n",
    "        return arrkronmeth\n",
    "    return testkron(arr, n)"
   ]
  },
  {
   "cell_type": "code",
   "execution_count": 20,
   "metadata": {},
   "outputs": [],
   "source": [
    "# Using np.kron\n",
    "def testkron(arr, n):\n",
    "    arr_copy = arr\n",
    "    for j in range(0, n-1):\n",
    "        arr = np.kron(arr, arr_copy)\n",
    "    arrkronmeth = arr\n",
    "    return arrkronmeth"
   ]
  },
  {
   "cell_type": "code",
   "execution_count": null,
   "metadata": {},
   "outputs": [],
   "source": []
  },
  {
   "cell_type": "code",
   "execution_count": 21,
   "metadata": {},
   "outputs": [
    {
     "data": {
      "text/plain": [
       "True"
      ]
     },
     "execution_count": 21,
     "metadata": {},
     "output_type": "execute_result"
    }
   ],
   "source": [
    "# Check results of test1\n",
    "np.array_equal(test1(arr, n), testkron(arr, n))"
   ]
  },
  {
   "cell_type": "code",
   "execution_count": 22,
   "metadata": {},
   "outputs": [
    {
     "data": {
      "text/plain": [
       "True"
      ]
     },
     "execution_count": 22,
     "metadata": {},
     "output_type": "execute_result"
    }
   ],
   "source": [
    "# Check results of test2\n",
    "np.array_equal(test2(arr, n), testkron(arr, n))"
   ]
  },
  {
   "cell_type": "code",
   "execution_count": 23,
   "metadata": {},
   "outputs": [
    {
     "data": {
      "text/plain": [
       "True"
      ]
     },
     "execution_count": 23,
     "metadata": {},
     "output_type": "execute_result"
    }
   ],
   "source": [
    "# Check results of test3\n",
    "np.array_equal(test3(arr, n), testkron(arr, n))"
   ]
  },
  {
   "cell_type": "code",
   "execution_count": null,
   "metadata": {},
   "outputs": [],
   "source": []
  },
  {
   "cell_type": "code",
   "execution_count": 24,
   "metadata": {},
   "outputs": [
    {
     "name": "stdout",
     "output_type": "stream",
     "text": [
      "708 ms ± 47.9 ms per loop (mean ± std. dev. of 7 runs, 1 loop each)\n"
     ]
    }
   ],
   "source": [
    "# Time required for test1\n",
    "%timeit test1(arr, n)"
   ]
  },
  {
   "cell_type": "code",
   "execution_count": 25,
   "metadata": {},
   "outputs": [
    {
     "name": "stdout",
     "output_type": "stream",
     "text": [
      "1.16 s ± 129 ms per loop (mean ± std. dev. of 7 runs, 1 loop each)\n"
     ]
    }
   ],
   "source": [
    "# Time required for test2\n",
    "%timeit test2(arr, n)"
   ]
  },
  {
   "cell_type": "code",
   "execution_count": 26,
   "metadata": {},
   "outputs": [
    {
     "name": "stdout",
     "output_type": "stream",
     "text": [
      "621 ms ± 39 ms per loop (mean ± std. dev. of 7 runs, 1 loop each)\n"
     ]
    }
   ],
   "source": [
    "# Time required for test3\n",
    "%timeit test3(arr, n)"
   ]
  },
  {
   "cell_type": "code",
   "execution_count": 27,
   "metadata": {},
   "outputs": [
    {
     "name": "stdout",
     "output_type": "stream",
     "text": [
      "398 µs ± 31.9 µs per loop (mean ± std. dev. of 7 runs, 1000 loops each)\n"
     ]
    }
   ],
   "source": [
    "# Time required for testkron\n",
    "%timeit testkron(arr, n)"
   ]
  },
  {
   "cell_type": "code",
   "execution_count": null,
   "metadata": {},
   "outputs": [],
   "source": []
  }
 ],
 "metadata": {
  "kernelspec": {
   "display_name": "Python 3",
   "language": "python",
   "name": "python3"
  },
  "language_info": {
   "codemirror_mode": {
    "name": "ipython",
    "version": 3
   },
   "file_extension": ".py",
   "mimetype": "text/x-python",
   "name": "python",
   "nbconvert_exporter": "python",
   "pygments_lexer": "ipython3",
   "version": "3.7.6"
  }
 },
 "nbformat": 4,
 "nbformat_minor": 4
}
