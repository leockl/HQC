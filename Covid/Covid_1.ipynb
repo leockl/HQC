{
  "nbformat": 4,
  "nbformat_minor": 0,
  "metadata": {
    "accelerator": "GPU",
    "colab": {
      "name": "Covid_1.ipynb",
      "provenance": [],
      "toc_visible": true
    },
    "kernelspec": {
      "display_name": "Python 3",
      "language": "python",
      "name": "python3"
    },
    "language_info": {
      "codemirror_mode": {
        "name": "ipython",
        "version": 3
      },
      "file_extension": ".py",
      "mimetype": "text/x-python",
      "name": "python",
      "nbconvert_exporter": "python",
      "pygments_lexer": "ipython3",
      "version": "3.7.6"
    }
  },
  "cells": [
    {
      "cell_type": "code",
      "metadata": {
        "id": "jNP6zCjXZwl8"
      },
      "source": [
        "import pandas as pd\n",
        "from sklearn import model_selection\n",
        "from sklearn import preprocessing\n",
        "import numpy as np\n",
        "from sklearn import metrics\n",
        "from sklearn.ensemble import RandomForestClassifier\n",
        "from sklearn.linear_model import LogisticRegression\n",
        "from sklearn import svm\n",
        "from sklearn.neural_network import MLPClassifier\n",
        "from sklearn.linear_model import SGDClassifier\n",
        "from xgboost import XGBClassifier\n",
        "from sklearn.ensemble import AdaBoostClassifier"
      ],
      "execution_count": 1,
      "outputs": []
    },
    {
      "cell_type": "code",
      "metadata": {
        "id": "SxgWfc2GZwmR"
      },
      "source": [
        "import numpy as np\n",
        "from sklearn.base import BaseEstimator, ClassifierMixin\n",
        "from sklearn.utils.validation import check_X_y, check_array, check_is_fitted\n",
        "from sklearn.utils.multiclass import check_classification_targets\n",
        "import torch\n",
        "from torch.nn.functional import normalize\n",
        "\n",
        "class HQC_gpu(BaseEstimator, ClassifierMixin):\n",
        "    \"\"\"The Helstrom Quantum Centroid (HQC) classifier is a quantum-inspired supervised \n",
        "    classification approach for data with binary classes (ie. data with 2 classes only).\n",
        "                         \n",
        "    Parameters\n",
        "    ----------\n",
        "    rescale : int or float, default = 1\n",
        "        The dataset rescaling factor. A parameter used for rescaling the dataset. \n",
        "    encoding : str, default = 'amplit'\n",
        "        The encoding method used to encode vectors into quantum densities. Possible values:\n",
        "        'amplit', 'stereo'. 'amplit' means using the amplitude encoding method. 'stereo' means \n",
        "        using the inverse of the standard stereographic projection encoding method. Default set \n",
        "        to 'amplit'.\n",
        "    n_copies : int, default = 1\n",
        "        The number of copies to take for each quantum density. This is equivalent to taking \n",
        "        the n-fold Kronecker tensor product for each quantum density.\n",
        "    class_wgt : str, default = 'equi'\n",
        "        The class weights assigned to the Quantum Helstrom observable terms. Possible values: \n",
        "        'equi', 'weighted'. 'equi' means assigning equal weights of 1/2 (equiprobable) to the\n",
        "        two classes in the Quantum Helstrom observable. 'weighted' means assigning weights equal \n",
        "        to the proportion of the number of rows in each class to the two classes in the Quantum \n",
        "        Helstrom observable. Default set to 'equi'.\n",
        "    n_splits : int, default = 1\n",
        "        The number of subset splits performed on the input dataset row-wise and on the number \n",
        "        of eigenvalues/eigenvectors of the Quantum Helstrom observable for optimal speed \n",
        "        performance. If 1 is given, no splits are performed. For optimal speed, recommend \n",
        "        using small values as close to 1 as possible. If memory blow-out occurs, increase \n",
        "        n_splits.\n",
        "    dtype : torch.float32 or torch.float64, default = torch.float64\n",
        "        The float datatype used for the elements in the Pytorch tensor dataset. Datatype has to\n",
        "        be of float to ensure calculations are done in float rather than integer. To achieve\n",
        "        higher n_copies without memory blow-out issues, reduce float precision, which may or may   \n",
        "        not affect accuracy.\n",
        "    \n",
        "    Attributes\n",
        "    ----------\n",
        "    classes_ : ndarray, shape (2,)\n",
        "        Sorted binary classes.\n",
        "    centroids_ : tensor, size (2, (n_features + 1)**n_copies, (n_features + 1)**n_copies)\n",
        "        Quantum Centroids for class with index 0 and 1 respectively. Stored in GPU.\n",
        "    hels_obs_ : tensor, size ((n_features + 1)**n_copies, (n_features + 1)**n_copies)\n",
        "        Quantum Helstrom observable. Stored in GPU.\n",
        "    proj_sums_ : tensor, size (2, (n_features + 1)**n_copies, (n_features + 1)**n_copies)\n",
        "        Sum of the projectors of the Quantum Helstrom observable's eigenvectors, which has\n",
        "        corresponding positive and negative eigenvalues respectively. Stored in GPU.\n",
        "    hels_bound_ : float\n",
        "        Helstrom bound is the upper bound of the probability that one can correctly \n",
        "        discriminate whether a quantum density is of which of the two binary quantum density \n",
        "        pattern. Stored in CPU.         \n",
        "    \"\"\"\n",
        "    # Added binary_only tag as required by sklearn check_estimator\n",
        "    def _more_tags(self):\n",
        "        return {'binary_only': True}        \n",
        "    \n",
        "    \n",
        "    # Initialize model hyperparameters\n",
        "    def __init__(self, \n",
        "                 rescale = 1,\n",
        "                 encoding = 'amplit',\n",
        "                 n_copies = 1,                   \n",
        "                 class_wgt = 'equi', \n",
        "                 n_splits = 1,\n",
        "                 dtype = torch.float64):\n",
        "        self.rescale = rescale\n",
        "        self.encoding = encoding\n",
        "        self.n_copies = n_copies\n",
        "        self.class_wgt = class_wgt\n",
        "        self.n_splits = n_splits\n",
        "        self.dtype = dtype\n",
        "        \n",
        "        # Raise error if dtype is not torch.float32 or torch.float64\n",
        "        if self.dtype not in [torch.float32, torch.float64]:\n",
        "            raise ValueError('dtype should be torch.float32 or torch.float64 only')\n",
        "        \n",
        "    \n",
        "    # Function for kronecker tensor product of PyTorch tensors, set as global function\n",
        "    global kronecker\n",
        "    def kronecker(A, B):\n",
        "        return torch.einsum('nab,ncd->nacbd', A, B).view(A.size(0), \n",
        "                                                         A.size(1)*B.size(1), \n",
        "                                                         A.size(2)*B.size(2))\n",
        "    \n",
        "    \n",
        "    # Function for fit\n",
        "    def fit(self, X, y):\n",
        "        \"\"\"Perform HQC classification with the inverse of the standard stereographic \n",
        "        projection encoding, with the option to rescale the dataset prior to encoding.\n",
        "                \n",
        "        Parameters\n",
        "        ----------\n",
        "        X : array-like, shape (n_samples, n_features)\n",
        "            The training input samples. An array of int or float.\n",
        "        y : array-like, shape (n_samples,)\n",
        "            The training input binary target values. An array of str, int or float.\n",
        "            \n",
        "        Returns\n",
        "        -------\n",
        "        self : object\n",
        "            Returns self.\n",
        "        \"\"\"\n",
        "        # Check that arrays X and y have correct shape\n",
        "        X, y = check_X_y(X, y)\n",
        "        \n",
        "        # Ensure target array y is of non-regression type  \n",
        "        # Added as required by sklearn check_estimator\n",
        "        check_classification_targets(y)\n",
        "            \n",
        "        # Store binary classes and encode y into binary class indexes 0 and 1\n",
        "        self.classes_, y_class_index = np.unique(y, return_inverse = True)\n",
        "\n",
        "        # Raise error if there are more than 2 classes\n",
        "        if len(self.classes_) > 2:  \n",
        "            raise ValueError('only 2 classes are supported')\n",
        "        \n",
        "        # Cast array X into a floating point tensor to ensure all following calculations below  \n",
        "        # are done in float rather than integer, and send tensor X from CPU to GPU\n",
        "        X = torch.tensor(X, dtype = self.dtype).cuda()\n",
        "        \n",
        "        # Rescale X\n",
        "        X = self.rescale*X\n",
        "        \n",
        "        # Calculate sum of squares of each row (sample) in X\n",
        "        X_sq_sum = (X**2).sum(dim = 1)\n",
        "        \n",
        "        # Number of rows in X\n",
        "        m = X.shape[0]\n",
        "        \n",
        "        # Number of columns in X\n",
        "        n = X.shape[1]\n",
        "        \n",
        "        # Calculate X' using amplitude or inverse of the standard stereographic projection \n",
        "        # encoding method\n",
        "        if self.encoding == 'amplit':\n",
        "            X_prime = normalize(torch.cat([X, torch.ones(m, dtype = self.dtype) \\\n",
        "                                           .reshape(-1, 1).cuda()], dim = 1), p = 2, dim = 1)\n",
        "        elif self.encoding == 'stereo':\n",
        "            X_prime = (1 / (X_sq_sum + 1)).reshape(-1, 1)*(torch.cat((2*X, (X_sq_sum - 1) \\\n",
        "                                                                      .reshape(-1, 1)), dim = 1))\n",
        "        else:\n",
        "            raise ValueError('encoding should be \"amplit\" or \"stereo\"')\n",
        "        \n",
        "        # Number of columns in X', set as global variable\n",
        "        global n_prime\n",
        "        n_prime = n + 1\n",
        "        \n",
        "        # Function to calculate terms in the Quantum Centroids and quantum Helstrom \n",
        "        # observable for each class, per subset split\n",
        "        def centroids_terms_func(i):\n",
        "            # Cast array y_class_index into a tensor and send from CPU to GPU\n",
        "            # Determine rows (samples) in X' belonging to either class\n",
        "            X_prime_class = X_prime[torch.CharTensor(y_class_index).cuda() == i]\n",
        "                                    \n",
        "            # Split X' belonging to either class into n_splits subsets, row-wise\n",
        "            # Send tensors from GPU to CPU and cast tensors into arrays, use np.array_split()\n",
        "            # because the equivalent torch.chunk() doesn't behave similarly to np.array_split()\n",
        "            X_prime_class_split_arr = np.array_split(X_prime_class.cpu().numpy(),\n",
        "                                                     indices_or_sections = self.n_splits,\n",
        "                                                     axis = 0)\n",
        "            \n",
        "            # Cast arrays back to tensors and send back from CPU to GPU\n",
        "            X_prime_class_split = [torch.tensor(a, dtype = self.dtype).cuda() \n",
        "                                   for a in X_prime_class_split_arr]\n",
        "            \n",
        "            # Function to calculate sum of quantum densities belonging to each class, \n",
        "            # per subset split\n",
        "            def X_prime_class_split_func(j):\n",
        "                # Counter for j-th split of X'\n",
        "                X_prime_class_split_jth = X_prime_class_split[j]\n",
        "                \n",
        "                # Number of rows (samples) in j-th split of X'\n",
        "                m_class_split = X_prime_class_split_jth.shape[0]\n",
        "                \n",
        "                # Encode vectors into quantum densities\n",
        "                density_chunk = torch.matmul(X_prime_class_split_jth.view(m_class_split, \n",
        "                                                                          n_prime, 1),\n",
        "                                             X_prime_class_split_jth.view(m_class_split, \n",
        "                                                                          1, n_prime))\n",
        "                \n",
        "                # Calculate n-fold Kronecker tensor product\n",
        "                if self.n_copies == 1:\n",
        "                    density_chunk = density_chunk\n",
        "                else:\n",
        "                    density_chunk_copy = density_chunk\n",
        "                    for b in range(self.n_copies - 1):\n",
        "                        density_chunk = kronecker(density_chunk, density_chunk_copy)\n",
        "                    \n",
        "                # Calculate sum of quantum densities\n",
        "                density_chunk_sum = density_chunk.sum(dim = 0)\n",
        "                return density_chunk_sum\n",
        "\n",
        "            # Number of rows/columns in density matrix, set as global variable\n",
        "            global density_nrow_ncol\n",
        "            density_nrow_ncol = n_prime**self.n_copies\n",
        "            \n",
        "            # Initialize array density_class_sum\n",
        "            density_class_sum = torch.zeros([density_nrow_ncol, density_nrow_ncol], \n",
        "                                            dtype = self.dtype).cuda()\n",
        "            for c in range(self.n_splits):\n",
        "                # Calculate sum of quantum densities belonging to either class\n",
        "                density_class_sum = density_class_sum + X_prime_class_split_func(c)\n",
        "            \n",
        "            # Number of rows (samples) in X' belonging to either class\n",
        "            m_class = X_prime_class.shape[0]\n",
        "            \n",
        "            # Function to calculate centroid belonging to either class\n",
        "            def centroid():\n",
        "                # Calculate Quantum Centroid belonging to either class\n",
        "                # Added ZeroDivisionError as required by sklearn check_estimator\n",
        "                try:\n",
        "                    centroid = (1 / m_class)*density_class_sum\n",
        "                except ZeroDivisionError:\n",
        "                    centroid = 0 \n",
        "                return centroid\n",
        "            \n",
        "            # Calculate centroid belonging to either class\n",
        "            centroid_class = centroid()\n",
        "            \n",
        "            # Calculate terms in the quantum Helstrom observable belonging to either class\n",
        "            if self.class_wgt == 'equi':\n",
        "                hels_obs_terms = 0.5*centroid_class\n",
        "            elif self.class_wgt == 'weighted':\n",
        "                hels_obs_terms = (m_class / m)*centroid_class\n",
        "            else:\n",
        "                raise ValueError('class_wgt should be \"equi\" or \"weighted\"')\n",
        "            return m_class, centroid_class, hels_obs_terms\n",
        "        \n",
        "        # Calculate Quantum Centroids and terms in the quantum Helstrom observable belonging \n",
        "        # to either class\n",
        "        centroids_terms = [centroids_terms_func(0), centroids_terms_func(1)] \n",
        "                    \n",
        "        # Determine Quantum Centroids\n",
        "        self.centroids_ = torch.stack([centroids_terms[0][1], centroids_terms[1][1]], dim = 0)\n",
        "                \n",
        "        # Calculate quantum Helstrom observable\n",
        "        self.hels_obs_ = centroids_terms[0][2] - centroids_terms[1][2] \n",
        "                \n",
        "        # Calculate eigenvalues w and eigenvectors v of the quantum Helstrom observable\n",
        "        w, v = torch.symeig(self.hels_obs_, eigenvectors = True)\n",
        "          \n",
        "        # Length of w\n",
        "        len_w = len(w)\n",
        "        \n",
        "        # Initialize array eigval_class\n",
        "        eigval_class = torch.empty_like(w, dtype = self.dtype).cuda()\n",
        "        for d in range(len_w):\n",
        "            # Create an array of 0s and 1s to indicate positive and negative eigenvalues\n",
        "            # respectively\n",
        "            if w[d] > 0:\n",
        "                eigval_class[d] = 0\n",
        "            else:\n",
        "                eigval_class[d] = 1\n",
        "        \n",
        "        # Transpose matrix v containing eigenvectors to row-wise\n",
        "        eigvec = v.T\n",
        "        \n",
        "        # Function to calculate sum of the projectors corresponding to positive and negative\n",
        "        # eigenvalues respectively\n",
        "        def sum_proj_func(e):\n",
        "            # Split eigenvectors belonging to positive or negative eigenvalues into n_splits subsets\n",
        "            # Send tensors from GPU to CPU and cast tensors into arrays, use np.array_split()\n",
        "            # because the equivalent torch.chunk() doesn't behave similarly to np.array_split()\n",
        "            eigvec_class_split_arr_full = np.array_split(eigvec.cpu().numpy()[eigval_class.cpu() == e],\n",
        "                                                         indices_or_sections = self.n_splits,\n",
        "                                                         axis = 0)\n",
        "            \n",
        "            # Remove empty rows in eigvec_class_split_arr_full\n",
        "            eigvec_class_split_arr = [f for f in eigvec_class_split_arr_full if f.shape[0] > 0]\n",
        "\n",
        "            # Cast arrays back to tensors and send back from CPU to GPU\n",
        "            eigvec_class_split = [torch.tensor(g, dtype = self.dtype).cuda() \n",
        "                                  for g in eigvec_class_split_arr]             \n",
        "            \n",
        "            # Function to calculate sum of the projectors corresponding to positive and negative\n",
        "            # eigenvalues respectively, per subset split\n",
        "            def eigvec_class_split_func(h):\n",
        "                # Counter for h-th split of eigvec\n",
        "                eigvec_class_split_hth = eigvec_class_split[h]\n",
        "                \n",
        "                # Number of rows (samples) in h-th split of eigvec\n",
        "                m_eigvec_class_split = eigvec_class_split_hth.shape[0]\n",
        "                \n",
        "                # Calculate projectors corresponding to positive and negative eigenvalues  \n",
        "                # respectively, per subset split\n",
        "                proj_split = torch.matmul(eigvec_class_split_hth.view(m_eigvec_class_split, \n",
        "                                                                      density_nrow_ncol, 1),\n",
        "                                          eigvec_class_split_hth.view(m_eigvec_class_split, \n",
        "                                                                      1, density_nrow_ncol))\n",
        "                \n",
        "                # Calculate sum of projectors\n",
        "                proj_split_sum = proj_split.sum(dim = 0)\n",
        "                return proj_split_sum\n",
        "            \n",
        "            # Determine length of eigvec_class_split_arr\n",
        "            eigvec_class_split_arr_len = len(eigvec_class_split_arr)\n",
        "\n",
        "            # Initialize array proj_class_sum\n",
        "            proj_class_sum = torch.zeros([density_nrow_ncol, density_nrow_ncol], \n",
        "                                         dtype = self.dtype).cuda()  \n",
        "            for k in range(eigvec_class_split_arr_len):\n",
        "                # Calculate sum of the projectors corresponding to positive and negative eigenvalues\n",
        "                # respectively\n",
        "                proj_class_sum = proj_class_sum + eigvec_class_split_func(k)\n",
        "            return proj_class_sum\n",
        "        \n",
        "        # Calculate sum of the projectors corresponding to positive and negative eigenvalues \n",
        "        # respectively\n",
        "        self.proj_sums_ = torch.stack([sum_proj_func(0), sum_proj_func(1)], dim = 0)        \n",
        "                       \n",
        "        # Calculate Helstrom bound\n",
        "        self.hels_bound_ = (centroids_terms[0][0] / m)*torch.einsum('ij,ji->', self.centroids_[0], \n",
        "                                                                   self.proj_sums_[0]).item() \\\n",
        "                           + (centroids_terms[1][0] / m)*torch.einsum('ij,ji->', self.centroids_[1], \n",
        "                                                                     self.proj_sums_[1]).item()\n",
        "        return self\n",
        "        \n",
        "    \n",
        "    # Function for predict_proba\n",
        "    def predict_proba(self, X):\n",
        "        \"\"\"Performs HQC classification on X and returns the trace of the dot product of the densities \n",
        "        and the sum of the projectors with corresponding positive and negative eigenvalues respectively.\n",
        "        \n",
        "        Parameters\n",
        "        ----------\n",
        "        X : array-like, shape (n_samples, n_features)\n",
        "            The input samples. An array of int or float.       \n",
        "            \n",
        "        Returns\n",
        "        -------\n",
        "        trace_matrix : array-like, shape (n_samples, 2)\n",
        "            Column index 0 corresponds to the trace of the dot product of the densities and the sum  \n",
        "            of projectors with positive eigenvalues. Column index 1 corresponds to the trace of the  \n",
        "            dot product of the densities and the sum of projectors with negative eigenvalues. An array \n",
        "            of float.\n",
        "        \"\"\"\n",
        "        # Send tensor self.proj_sums_ from GPU to CPU and cast into an array\n",
        "        self.proj_sums_arr_ = self.proj_sums_.cpu().numpy()\n",
        "                \n",
        "        # Check if fit had been called\n",
        "        check_is_fitted(self, ['proj_sums_arr_'])\n",
        "               \n",
        "        # Input validation of array X\n",
        "        X = check_array(X)\n",
        "                 \n",
        "        # Cast array X into a floating point tensor to ensure all following calculations below  \n",
        "        # are done in float rather than integer, and send tensor X from CPU to GPU\n",
        "        X = torch.tensor(X, dtype = self.dtype).cuda()\n",
        "        \n",
        "        # Rescale X\n",
        "        X = self.rescale*X        \n",
        "        \n",
        "        # Calculate sum of squares of each row (sample) in X\n",
        "        X_sq_sum = (X**2).sum(dim = 1)\n",
        "        \n",
        "        # Number of rows in X\n",
        "        m = X.shape[0]\n",
        "        \n",
        "        # Number of columns in X\n",
        "        n = X.shape[1]\n",
        "\n",
        "        # Calculate X' using amplitude or inverse of the standard stereographic projection \n",
        "        # encoding method\n",
        "        if self.encoding == 'amplit':\n",
        "            X_prime = normalize(torch.cat([X, torch.ones(m, dtype = self.dtype) \\\n",
        "                                           .reshape(-1, 1).cuda()], dim = 1), p = 2, dim = 1)\n",
        "        elif self.encoding == 'stereo':\n",
        "            X_prime = (1 / (X_sq_sum + 1)).reshape(-1, 1)*(torch.cat((2*X, (X_sq_sum - 1) \\\n",
        "                                                                      .reshape(-1, 1)), dim = 1))\n",
        "        else:\n",
        "            raise ValueError('encoding should be \"amplit\" or \"stereo\"')\n",
        "                       \n",
        "        # Function to calculate trace values for each class\n",
        "        def trace_func(i):\n",
        "            # Split X' into n_splits subsets, row-wise\n",
        "            # Send tensors from GPU to CPU and cast tensors into arrays, use np.array_split()\n",
        "            # because the equivalent torch.chunk() doesn't behave similarly to np.array_split()\n",
        "            X_prime_split_arr_full = np.array_split(X_prime.cpu().numpy(),\n",
        "                                                    indices_or_sections = self.n_splits,\n",
        "                                                    axis = 0)\n",
        "            \n",
        "            # Remove empty rows in X_prime_split_arr_full\n",
        "            X_prime_split_arr = [a for a in X_prime_split_arr_full if a.shape[0] > 0]\n",
        "\n",
        "            # Cast arrays back to tensors and send back from CPU to GPU\n",
        "            X_prime_split = [torch.tensor(q, dtype = self.dtype).cuda() for q in X_prime_split_arr]\n",
        "            \n",
        "            # Function to calculate trace values for each class, per subset split\n",
        "            def trace_split_func(j):\n",
        "                # Counter for j-th split X'\n",
        "                X_prime_split_jth = X_prime_split[j]\n",
        "                \n",
        "                # Number of rows (samples) in j-th split X'\n",
        "                X_prime_split_m = X_prime_split_jth.shape[0]\n",
        "                \n",
        "                # Encode vectors into quantum densities\n",
        "                density_chunk = torch.matmul(X_prime_split_jth.view(X_prime_split_m, n_prime, 1),\n",
        "                                             X_prime_split_jth.view(X_prime_split_m, 1, n_prime))\n",
        "                \n",
        "                # Calculate n-fold Kronecker tensor product\n",
        "                if self.n_copies == 1:\n",
        "                    density_chunk = density_chunk\n",
        "                else:\n",
        "                    density_chunk_copy = density_chunk\n",
        "                    for b in range(self.n_copies - 1):\n",
        "                        density_chunk = kronecker(density_chunk, density_chunk_copy)\n",
        "                        \n",
        "                # Calculate trace of the dot product of density of each row and sum of projectors\n",
        "                # with corresponding positive and negative eigenvalues respectively\n",
        "                return torch.einsum('bij,ji->b', density_chunk, self.proj_sums_[i])\n",
        "            \n",
        "            # Determine length of X_prime_split_arr\n",
        "            X_prime_split_arr_len = len(X_prime_split_arr)\n",
        "\n",
        "            # Initialize array trace_class\n",
        "            trace_class = torch.empty([0], dtype = self.dtype).cuda()\n",
        "            for c in range(X_prime_split_arr_len):\n",
        "                # Calculate trace values for each class, per subset split\n",
        "                trace_class = torch.cat([trace_class, trace_split_func(c)], dim = 0)\n",
        "            return trace_class\n",
        "        \n",
        "        # Calculate trace values for each class, send from GPU to CPU and cast into an array\n",
        "        trace_matrix = torch.stack([trace_func(0), trace_func(1)], dim = 1).cpu().numpy()\n",
        "        return trace_matrix\n",
        "                \n",
        "    \n",
        "    # Function for predict\n",
        "    def predict(self, X):\n",
        "        \"\"\"Performs HQC classification on X and returns the binary classes.\n",
        "        \n",
        "        Parameters\n",
        "        ----------\n",
        "        X : array-like, shape (n_samples, n_features)\n",
        "            The input samples. An array of int or float.\n",
        "            \n",
        "        Returns\n",
        "        -------\n",
        "        self.classes_[predict_trace_index] : array-like, shape (n_samples,)\n",
        "            The predicted binary classes. An array of str, int or float.\n",
        "        \"\"\"\n",
        "        # Determine column index with the higher trace value in trace_matrix\n",
        "        # Cast predict_proba(X) from an array into a tensor and send from CPU to GPU\n",
        "        # If both columns have the same trace value, returns column index 1, which is different \n",
        "        # to np.argmax() which returns column index 0\n",
        "        predict_trace_index = torch.argmax(torch.tensor(self.predict_proba(X),\n",
        "                                                        dtype = self.dtype).cuda(), axis = 1)\n",
        "        # Returns the predicted binary classes, send tensor from GPU to CPU and cast tensor\n",
        "        # into an array\n",
        "        return self.classes_[predict_trace_index.cpu().numpy()]"
      ],
      "execution_count": 25,
      "outputs": []
    },
    {
      "cell_type": "code",
      "metadata": {
        "id": "gyVek3DUZwmc"
      },
      "source": [
        "# Read in dataset\n",
        "df = pd.read_csv('sample_data.csv')"
      ],
      "execution_count": 3,
      "outputs": []
    },
    {
      "cell_type": "code",
      "metadata": {
        "id": "PEm2B8-vZwmp",
        "outputId": "081f4c92-911e-415d-9889-5ecfb30be421",
        "colab": {
          "base_uri": "https://localhost:8080/",
          "height": 275
        }
      },
      "source": [
        "# Observe first 5 rows\n",
        "df.head()"
      ],
      "execution_count": 4,
      "outputs": [
        {
          "output_type": "execute_result",
          "data": {
            "text/html": [
              "<div>\n",
              "<style scoped>\n",
              "    .dataframe tbody tr th:only-of-type {\n",
              "        vertical-align: middle;\n",
              "    }\n",
              "\n",
              "    .dataframe tbody tr th {\n",
              "        vertical-align: top;\n",
              "    }\n",
              "\n",
              "    .dataframe thead th {\n",
              "        text-align: right;\n",
              "    }\n",
              "</style>\n",
              "<table border=\"1\" class=\"dataframe\">\n",
              "  <thead>\n",
              "    <tr style=\"text-align: right;\">\n",
              "      <th></th>\n",
              "      <th>Unnamed: 0</th>\n",
              "      <th>Hemoglobin</th>\n",
              "      <th>Absolute Lymphocyte Count</th>\n",
              "      <th>Absolute Neutrophil Count</th>\n",
              "      <th>Platelet Count</th>\n",
              "      <th>C-Reactive Protein</th>\n",
              "      <th>Ferritin</th>\n",
              "      <th>D-DIMER</th>\n",
              "      <th>Absolute Basophil Count</th>\n",
              "      <th>Absolute Eosinophil Count</th>\n",
              "      <th>Absolute Monocyte Count</th>\n",
              "      <th>Lactate Dehydrogenase</th>\n",
              "      <th>Red Blood Cell Count</th>\n",
              "      <th>Lymp/Neut</th>\n",
              "      <th>Age</th>\n",
              "      <th>positive</th>\n",
              "      <th>Male</th>\n",
              "      <th>TestResult</th>\n",
              "      <th>Sex</th>\n",
              "      <th>Race</th>\n",
              "    </tr>\n",
              "  </thead>\n",
              "  <tbody>\n",
              "    <tr>\n",
              "      <th>0</th>\n",
              "      <td>0</td>\n",
              "      <td>7.9</td>\n",
              "      <td>NaN</td>\n",
              "      <td>7.27</td>\n",
              "      <td>170.0</td>\n",
              "      <td>NaN</td>\n",
              "      <td>NaN</td>\n",
              "      <td>NaN</td>\n",
              "      <td>0.06</td>\n",
              "      <td>0.04</td>\n",
              "      <td>NaN</td>\n",
              "      <td>NaN</td>\n",
              "      <td>4.36</td>\n",
              "      <td>0.433942</td>\n",
              "      <td>52</td>\n",
              "      <td>0</td>\n",
              "      <td>1</td>\n",
              "      <td>negative</td>\n",
              "      <td>Male</td>\n",
              "      <td>Black</td>\n",
              "    </tr>\n",
              "    <tr>\n",
              "      <th>1</th>\n",
              "      <td>1</td>\n",
              "      <td>13.3</td>\n",
              "      <td>1.75</td>\n",
              "      <td>10.18</td>\n",
              "      <td>415.0</td>\n",
              "      <td>15.2</td>\n",
              "      <td>NaN</td>\n",
              "      <td>NaN</td>\n",
              "      <td>0.01</td>\n",
              "      <td>0.04</td>\n",
              "      <td>0.85</td>\n",
              "      <td>NaN</td>\n",
              "      <td>4.14</td>\n",
              "      <td>0.119211</td>\n",
              "      <td>64</td>\n",
              "      <td>0</td>\n",
              "      <td>0</td>\n",
              "      <td>negative</td>\n",
              "      <td>Female</td>\n",
              "      <td>Black</td>\n",
              "    </tr>\n",
              "    <tr>\n",
              "      <th>2</th>\n",
              "      <td>2</td>\n",
              "      <td>6.8</td>\n",
              "      <td>0.45</td>\n",
              "      <td>8.80</td>\n",
              "      <td>319.0</td>\n",
              "      <td>NaN</td>\n",
              "      <td>NaN</td>\n",
              "      <td>NaN</td>\n",
              "      <td>0.04</td>\n",
              "      <td>0.38</td>\n",
              "      <td>0.63</td>\n",
              "      <td>NaN</td>\n",
              "      <td>5.34</td>\n",
              "      <td>0.062818</td>\n",
              "      <td>45</td>\n",
              "      <td>0</td>\n",
              "      <td>1</td>\n",
              "      <td>negative</td>\n",
              "      <td>Male</td>\n",
              "      <td>Black</td>\n",
              "    </tr>\n",
              "    <tr>\n",
              "      <th>3</th>\n",
              "      <td>3</td>\n",
              "      <td>15.1</td>\n",
              "      <td>1.16</td>\n",
              "      <td>11.01</td>\n",
              "      <td>262.0</td>\n",
              "      <td>1.2</td>\n",
              "      <td>NaN</td>\n",
              "      <td>NaN</td>\n",
              "      <td>0.01</td>\n",
              "      <td>0.00</td>\n",
              "      <td>0.61</td>\n",
              "      <td>NaN</td>\n",
              "      <td>5.08</td>\n",
              "      <td>NaN</td>\n",
              "      <td>48</td>\n",
              "      <td>0</td>\n",
              "      <td>0</td>\n",
              "      <td>negative</td>\n",
              "      <td>Female</td>\n",
              "      <td>White</td>\n",
              "    </tr>\n",
              "    <tr>\n",
              "      <th>4</th>\n",
              "      <td>4</td>\n",
              "      <td>11.1</td>\n",
              "      <td>NaN</td>\n",
              "      <td>10.12</td>\n",
              "      <td>111.0</td>\n",
              "      <td>25.6</td>\n",
              "      <td>95.0</td>\n",
              "      <td>1244.0</td>\n",
              "      <td>0.01</td>\n",
              "      <td>0.03</td>\n",
              "      <td>0.50</td>\n",
              "      <td>340.0</td>\n",
              "      <td>4.39</td>\n",
              "      <td>0.053373</td>\n",
              "      <td>76</td>\n",
              "      <td>0</td>\n",
              "      <td>1</td>\n",
              "      <td>negative</td>\n",
              "      <td>Male</td>\n",
              "      <td>White</td>\n",
              "    </tr>\n",
              "  </tbody>\n",
              "</table>\n",
              "</div>"
            ],
            "text/plain": [
              "   Unnamed: 0  Hemoglobin  Absolute Lymphocyte Count  ...  TestResult     Sex   Race\n",
              "0           0         7.9                        NaN  ...    negative    Male  Black\n",
              "1           1        13.3                       1.75  ...    negative  Female  Black\n",
              "2           2         6.8                       0.45  ...    negative    Male  Black\n",
              "3           3        15.1                       1.16  ...    negative  Female  White\n",
              "4           4        11.1                        NaN  ...    negative    Male  White\n",
              "\n",
              "[5 rows x 20 columns]"
            ]
          },
          "metadata": {
            "tags": []
          },
          "execution_count": 4
        }
      ]
    },
    {
      "cell_type": "code",
      "metadata": {
        "id": "1RcxyNtWZwm8",
        "outputId": "02b2f468-fb54-4077-916b-370d4e814dd0",
        "colab": {
          "base_uri": "https://localhost:8080/"
        }
      },
      "source": [
        "# Check no. of rows and columns\n",
        "df.shape"
      ],
      "execution_count": 5,
      "outputs": [
        {
          "output_type": "execute_result",
          "data": {
            "text/plain": [
              "(1072, 20)"
            ]
          },
          "metadata": {
            "tags": []
          },
          "execution_count": 5
        }
      ]
    },
    {
      "cell_type": "markdown",
      "metadata": {
        "id": "FgnxWSI9ZwnI"
      },
      "source": [
        "## Data Preprocessing"
      ]
    },
    {
      "cell_type": "code",
      "metadata": {
        "id": "hX8ruslSZwnL",
        "outputId": "8b99aefa-8b41-43bd-f8e1-1b2611960987",
        "colab": {
          "base_uri": "https://localhost:8080/"
        }
      },
      "source": [
        "# Check datatypes\n",
        "df.dtypes"
      ],
      "execution_count": 6,
      "outputs": [
        {
          "output_type": "execute_result",
          "data": {
            "text/plain": [
              "Unnamed: 0                     int64\n",
              "Hemoglobin                   float64\n",
              "Absolute Lymphocyte Count    float64\n",
              "Absolute Neutrophil Count    float64\n",
              "Platelet Count               float64\n",
              "C-Reactive Protein           float64\n",
              "Ferritin                     float64\n",
              "D-DIMER                      float64\n",
              "Absolute Basophil Count      float64\n",
              "Absolute Eosinophil Count    float64\n",
              "Absolute Monocyte Count      float64\n",
              "Lactate Dehydrogenase        float64\n",
              "Red Blood Cell Count         float64\n",
              "Lymp/Neut                    float64\n",
              "Age                            int64\n",
              "positive                       int64\n",
              "Male                           int64\n",
              "TestResult                    object\n",
              "Sex                           object\n",
              "Race                          object\n",
              "dtype: object"
            ]
          },
          "metadata": {
            "tags": []
          },
          "execution_count": 6
        }
      ]
    },
    {
      "cell_type": "code",
      "metadata": {
        "id": "VPO3NToHZwnV"
      },
      "source": [
        "# Cast \"Age\" feature to float datatype for floating point calculations later on\n",
        "df['Age'] = df['Age'].astype(float)\n",
        "\n",
        "# Cast \"Male\" feature to object datatype as these are categorical features\n",
        "df['Male'] = df['Male'].astype(object)"
      ],
      "execution_count": 7,
      "outputs": []
    },
    {
      "cell_type": "code",
      "metadata": {
        "id": "fMlc4gibZwnn",
        "outputId": "ca453fb0-708e-4c03-e4f5-f0f95017f438",
        "colab": {
          "base_uri": "https://localhost:8080/"
        }
      },
      "source": [
        "# Check missing values\n",
        "(df.isnull().sum(axis=0)/df.shape[0]).sort_values(ascending=False)"
      ],
      "execution_count": 8,
      "outputs": [
        {
          "output_type": "execute_result",
          "data": {
            "text/plain": [
              "D-DIMER                      0.566231\n",
              "Lactate Dehydrogenase        0.491604\n",
              "Ferritin                     0.474813\n",
              "C-Reactive Protein           0.333955\n",
              "Absolute Lymphocyte Count    0.222015\n",
              "Lymp/Neut                    0.222015\n",
              "Race                         0.159515\n",
              "TestResult                   0.159515\n",
              "Sex                          0.159515\n",
              "Absolute Basophil Count      0.138060\n",
              "Absolute Neutrophil Count    0.138060\n",
              "Absolute Eosinophil Count    0.138060\n",
              "Absolute Monocyte Count      0.138060\n",
              "Platelet Count               0.014925\n",
              "Hemoglobin                   0.013060\n",
              "Red Blood Cell Count         0.012127\n",
              "Age                          0.000000\n",
              "positive                     0.000000\n",
              "Male                         0.000000\n",
              "Unnamed: 0                   0.000000\n",
              "dtype: float64"
            ]
          },
          "metadata": {
            "tags": []
          },
          "execution_count": 8
        }
      ]
    },
    {
      "cell_type": "code",
      "metadata": {
        "id": "gJ_r_I9xZwn0",
        "outputId": "4e9f40fb-ad55-4302-dae5-8765e9cd047b",
        "colab": {
          "base_uri": "https://localhost:8080/"
        }
      },
      "source": [
        "# Drop rows with no complete blood counts\n",
        "df_drop_count = df.dropna(axis=0, how='any', subset=[feature_name for feature_name in df.columns if feature_name[-5:] in ['Count']])\n",
        "df_drop_count.shape"
      ],
      "execution_count": 9,
      "outputs": [
        {
          "output_type": "execute_result",
          "data": {
            "text/plain": [
              "(457, 20)"
            ]
          },
          "metadata": {
            "tags": []
          },
          "execution_count": 9
        }
      ]
    },
    {
      "cell_type": "code",
      "metadata": {
        "id": "Sme7Ila-Zwn_",
        "outputId": "e8c011f8-e46e-4b46-cebd-a373a5f2974f",
        "colab": {
          "base_uri": "https://localhost:8080/"
        }
      },
      "source": [
        "# Drop rows with no imflammatory markers at all\n",
        "df_drop_count_marker = df_drop_count.dropna(axis=0, how='all', subset=['C-Reactive Protein', 'Ferritin', 'Lactate Dehydrogenase'])\n",
        "df_drop_count_marker.shape"
      ],
      "execution_count": 10,
      "outputs": [
        {
          "output_type": "execute_result",
          "data": {
            "text/plain": [
              "(414, 20)"
            ]
          },
          "metadata": {
            "tags": []
          },
          "execution_count": 10
        }
      ]
    },
    {
      "cell_type": "markdown",
      "metadata": {
        "id": "yBBYH0SmZwoM"
      },
      "source": [
        "## Feature Selection"
      ]
    },
    {
      "cell_type": "code",
      "metadata": {
        "id": "Ph5Zj5V0ZwoP",
        "outputId": "a57b5c89-bb64-4fb4-beac-f5a40cbbb863",
        "colab": {
          "base_uri": "https://localhost:8080/"
        }
      },
      "source": [
        "# Drop features not used in the model from the paper\n",
        "df_drop_count_marker_feat = df_drop_count_marker.drop(['Unnamed: 0', 'D-DIMER', 'TestResult', 'Sex', 'Race'], axis=1)\n",
        "df_drop_count_marker_feat.shape"
      ],
      "execution_count": 11,
      "outputs": [
        {
          "output_type": "execute_result",
          "data": {
            "text/plain": [
              "(414, 15)"
            ]
          },
          "metadata": {
            "tags": []
          },
          "execution_count": 11
        }
      ]
    },
    {
      "cell_type": "markdown",
      "metadata": {
        "id": "y63btWnlZwob"
      },
      "source": [
        "## Feature Engineering"
      ]
    },
    {
      "cell_type": "code",
      "metadata": {
        "id": "I5nwnAHCZwod"
      },
      "source": [
        "# Extract features\n",
        "df_X = df_drop_count_marker_feat.drop(['positive'], axis=1)\n",
        "\n",
        "# Extract target variable\n",
        "df_y = df_drop_count_marker_feat[['positive']]"
      ],
      "execution_count": 12,
      "outputs": []
    },
    {
      "cell_type": "code",
      "metadata": {
        "id": "T7Lvx18QZwot"
      },
      "source": [
        "# Train/test split\n",
        "##### NO STRATIFIED SAMPLING IN TRAIN/TEST SPLIT #####\n",
        "df_X_train, df_X_test, df_y_train, df_y_test = model_selection.train_test_split(df_X, df_y, test_size=0.3, random_state=0)\n",
        "\n",
        "##### WITH STRATIFIED SAMPLING IN TRAIN/TEST SPLIT #####\n",
        "# df_X_train, df_X_test, df_y_train, df_y_test = model_selection.train_test_split(df_X, df_y, test_size=0.3, random_state=0, stratify=df_y)"
      ],
      "execution_count": 36,
      "outputs": []
    },
    {
      "cell_type": "code",
      "metadata": {
        "id": "RXduiwI7Zwo3"
      },
      "source": [
        "# Extract continuous features from training set\n",
        "df_X_train_con = df_X_train.select_dtypes(exclude=['object'])\n",
        "\n",
        "# Calculate mean and std dev of continuous features in training set\n",
        "transformer = preprocessing.StandardScaler().fit(df_X_train_con.values)\n",
        "\n",
        "# Normalize continuous features in training set\n",
        "X_train_con_norm = transformer.transform(df_X_train_con.values)"
      ],
      "execution_count": 37,
      "outputs": []
    },
    {
      "cell_type": "code",
      "metadata": {
        "id": "s5dToouQZwpE"
      },
      "source": [
        "# Extract continuous features from test set\n",
        "df_X_test_con = df_X_test.select_dtypes(exclude=['object'])\n",
        "\n",
        "# Normalize continuous features in test set (according to mean and std dev of continuous features in training set)\n",
        "X_test_con_norm = transformer.transform(df_X_test_con.values)"
      ],
      "execution_count": 38,
      "outputs": []
    },
    {
      "cell_type": "code",
      "metadata": {
        "id": "jNOIeJVxZwpO"
      },
      "source": [
        "# Extract categorical features from training set, ie. just the \"Male\" feature\n",
        "df_X_train_cat = df_X_train.select_dtypes(include=['object'])\n",
        "\n",
        "# Perform one-hot encoding on categorical features in training set\n",
        "df_X_train_cat_onehot = pd.get_dummies(df_X_train_cat)\n",
        "\n",
        "# Concatenate normalized continuous features and one-hot encoded categorical features for training set\n",
        "X_train_fe = np.concatenate([X_train_con_norm, df_X_train_cat_onehot.values], axis=1)\n",
        "\n",
        "# Imput missing values with zeros in training set\n",
        "X_train_fe_zero = np.nan_to_num(X_train_fe, nan=0.0)"
      ],
      "execution_count": 39,
      "outputs": []
    },
    {
      "cell_type": "code",
      "metadata": {
        "id": "s7NzGXNZZwpX"
      },
      "source": [
        "# Extract categorical features from test set\n",
        "df_X_test_cat = df_X_test.select_dtypes(include=['object'])\n",
        "\n",
        "# Perform one-hot encoding on categorical features in test set\n",
        "df_X_test_cat_onehot = pd.get_dummies(df_X_test_cat)\n",
        "\n",
        "# Concatenate normalized continuous features and one-hot encoded categorical features for test set\n",
        "X_test_fe = np.concatenate([X_test_con_norm, df_X_test_cat_onehot.values], axis=1)\n",
        "\n",
        "# Imput missing values with zeros in test set\n",
        "X_test_fe_zero = np.nan_to_num(X_test_fe, nan=0.0)"
      ],
      "execution_count": 40,
      "outputs": []
    },
    {
      "cell_type": "code",
      "metadata": {
        "id": "Fkh-XRySZwpj",
        "outputId": "9ad688a6-7520-49aa-d741-9df8c2690d3f",
        "colab": {
          "base_uri": "https://localhost:8080/"
        }
      },
      "source": [
        "# Check no. of rows and columns \n",
        "X_train_fe_zero.shape, X_test_fe_zero.shape, df_y_train.shape, df_y_test.shape"
      ],
      "execution_count": 41,
      "outputs": [
        {
          "output_type": "execute_result",
          "data": {
            "text/plain": [
              "((289, 15), (125, 15), (289, 1), (125, 1))"
            ]
          },
          "metadata": {
            "tags": []
          },
          "execution_count": 41
        }
      ]
    },
    {
      "cell_type": "code",
      "metadata": {
        "id": "vs5Zimxnh_kh",
        "outputId": "ae7e7fd1-7811-4ada-959e-edee7cac3c9a",
        "colab": {
          "base_uri": "https://localhost:8080/"
        }
      },
      "source": [
        "# Check missing values in X_train_fe_zero\n",
        "(pd.DataFrame(X_train_fe_zero).isnull().sum(axis=0)/pd.DataFrame(X_train_fe_zero).shape[0]).sort_values(ascending=False)"
      ],
      "execution_count": 42,
      "outputs": [
        {
          "output_type": "execute_result",
          "data": {
            "text/plain": [
              "14    0.0\n",
              "13    0.0\n",
              "12    0.0\n",
              "11    0.0\n",
              "10    0.0\n",
              "9     0.0\n",
              "8     0.0\n",
              "7     0.0\n",
              "6     0.0\n",
              "5     0.0\n",
              "4     0.0\n",
              "3     0.0\n",
              "2     0.0\n",
              "1     0.0\n",
              "0     0.0\n",
              "dtype: float64"
            ]
          },
          "metadata": {
            "tags": []
          },
          "execution_count": 42
        }
      ]
    },
    {
      "cell_type": "code",
      "metadata": {
        "id": "jKtdMj5Ph_wT",
        "outputId": "45a40ad1-38a2-46fb-988b-ba5015c626a2",
        "colab": {
          "base_uri": "https://localhost:8080/"
        }
      },
      "source": [
        "# Check missing values in X_test_fe_zero\n",
        "(pd.DataFrame(X_test_fe_zero).isnull().sum(axis=0)/pd.DataFrame(X_test_fe_zero).shape[0]).sort_values(ascending=False)"
      ],
      "execution_count": 43,
      "outputs": [
        {
          "output_type": "execute_result",
          "data": {
            "text/plain": [
              "14    0.0\n",
              "13    0.0\n",
              "12    0.0\n",
              "11    0.0\n",
              "10    0.0\n",
              "9     0.0\n",
              "8     0.0\n",
              "7     0.0\n",
              "6     0.0\n",
              "5     0.0\n",
              "4     0.0\n",
              "3     0.0\n",
              "2     0.0\n",
              "1     0.0\n",
              "0     0.0\n",
              "dtype: float64"
            ]
          },
          "metadata": {
            "tags": []
          },
          "execution_count": 43
        }
      ]
    },
    {
      "cell_type": "code",
      "metadata": {
        "id": "vOLkv6mXh_2m",
        "outputId": "0b42829d-98af-4cd3-81e4-5882ca9af2e1",
        "colab": {
          "base_uri": "https://localhost:8080/"
        }
      },
      "source": [
        "# Check missing values in df_y_train\n",
        "(df_y_train.isnull().sum(axis=0)/df_y_train.shape[0]).sort_values(ascending=False)"
      ],
      "execution_count": 44,
      "outputs": [
        {
          "output_type": "execute_result",
          "data": {
            "text/plain": [
              "positive    0.0\n",
              "dtype: float64"
            ]
          },
          "metadata": {
            "tags": []
          },
          "execution_count": 44
        }
      ]
    },
    {
      "cell_type": "code",
      "metadata": {
        "id": "RxKgHvJfh_6e",
        "outputId": "33651d0a-da46-460c-f502-60ce40921555",
        "colab": {
          "base_uri": "https://localhost:8080/"
        }
      },
      "source": [
        "# Check missing values in df_y_test\n",
        "(df_y_test.isnull().sum(axis=0)/df_y_test.shape[0]).sort_values(ascending=False)"
      ],
      "execution_count": 45,
      "outputs": [
        {
          "output_type": "execute_result",
          "data": {
            "text/plain": [
              "positive    0.0\n",
              "dtype: float64"
            ]
          },
          "metadata": {
            "tags": []
          },
          "execution_count": 45
        }
      ]
    },
    {
      "cell_type": "code",
      "metadata": {
        "id": "YKK75eo6iHXA",
        "outputId": "c9e56b69-daff-4526-fa9a-0da0675aaab7",
        "colab": {
          "base_uri": "https://localhost:8080/"
        }
      },
      "source": [
        "# Check if class imbalance\n",
        "df_y_train['positive'].value_counts(normalize=True)*100"
      ],
      "execution_count": 46,
      "outputs": [
        {
          "output_type": "execute_result",
          "data": {
            "text/plain": [
              "0    74.048443\n",
              "1    25.951557\n",
              "Name: positive, dtype: float64"
            ]
          },
          "metadata": {
            "tags": []
          },
          "execution_count": 46
        }
      ]
    },
    {
      "cell_type": "markdown",
      "metadata": {
        "id": "2qsywlYWZwpx"
      },
      "source": [
        "## Model Development"
      ]
    },
    {
      "cell_type": "markdown",
      "metadata": {
        "id": "dRggSUpwbHJ7"
      },
      "source": [
        "##### NO STRATIFIED SAMPLING IN TRAIN/TEST SPLIT #####"
      ]
    },
    {
      "cell_type": "code",
      "metadata": {
        "id": "VJOMnLvKe-Ws"
      },
      "source": [
        "# Create rescale hyperparamter list [0.1, 0.5, 1, 1.5,...,10.0]\n",
        "rescale_list1 = [0.1]\n",
        "rescale_list2 = np.linspace(0.5, 10, 20).tolist()\n",
        "rescale_list1.extend(rescale_list2)\n",
        "\n",
        "# Using scikit-learn's GridSearchCV (with 7-folds following the paper)\n",
        "# Did not try n_copies=4 because it took too much memory or too much time\n",
        "param_grid = {'rescale':rescale_list1, 'encoding':['amplit', 'stereo'], 'n_copies':[1, 2, 3], 'class_wgt':['equi', 'weighted']}\n",
        "models = model_selection.GridSearchCV(HQC_gpu(n_splits=100, dtype=torch.float64), param_grid, scoring='roc_auc', cv=7).fit(X_train_fe_zero, df_y_train.values.ravel())"
      ],
      "execution_count": 26,
      "outputs": []
    },
    {
      "cell_type": "code",
      "metadata": {
        "id": "P-ZL1GZbZwp8",
        "outputId": "8b2a9d37-33f7-405a-d3ae-b2225a3b01dc",
        "colab": {
          "base_uri": "https://localhost:8080/"
        }
      },
      "source": [
        "# Best AUROC score\n",
        "best_model = models.best_estimator_\n",
        "y_score = best_model.predict_proba(X_test_fe_zero)\n",
        "metrics.roc_auc_score(df_y_test.values.ravel(), y_score[:,1])"
      ],
      "execution_count": 27,
      "outputs": [
        {
          "output_type": "execute_result",
          "data": {
            "text/plain": [
              "0.47397891963109356"
            ]
          },
          "metadata": {
            "tags": []
          },
          "execution_count": 27
        }
      ]
    },
    {
      "cell_type": "code",
      "metadata": {
        "id": "heRdOWKFZwqG",
        "outputId": "d8c50aec-8646-48e8-a287-dbdb8e12ac38",
        "colab": {
          "base_uri": "https://localhost:8080/"
        }
      },
      "source": [
        "# Best hyperparameter combination\n",
        "models.best_params_"
      ],
      "execution_count": 28,
      "outputs": [
        {
          "output_type": "execute_result",
          "data": {
            "text/plain": [
              "{'class_wgt': 'equi', 'encoding': 'amplit', 'n_copies': 1, 'rescale': 1.0}"
            ]
          },
          "metadata": {
            "tags": []
          },
          "execution_count": 28
        }
      ]
    },
    {
      "cell_type": "code",
      "metadata": {
        "id": "-YXnfmknZwqP"
      },
      "source": [
        ""
      ],
      "execution_count": null,
      "outputs": []
    },
    {
      "cell_type": "code",
      "metadata": {
        "id": "5NwvPRR0cLJp",
        "outputId": "f14f5ce6-11ba-4b4c-91cf-b4f094b7b002",
        "colab": {
          "base_uri": "https://localhost:8080/"
        }
      },
      "source": [
        "# Random forest model (following the paper's hyperparameter selection)\n",
        "rand_forest_model = RandomForestClassifier(n_estimators=100, bootstrap=True, max_features='sqrt', random_state=0).fit(X_train_fe_zero, df_y_train.values.ravel())\n",
        "y_score = rand_forest_model.predict_proba(X_test_fe_zero)\n",
        "metrics.roc_auc_score(df_y_test.values.ravel(), y_score[:,1])"
      ],
      "execution_count": 29,
      "outputs": [
        {
          "output_type": "execute_result",
          "data": {
            "text/plain": [
              "0.5484189723320159"
            ]
          },
          "metadata": {
            "tags": []
          },
          "execution_count": 29
        }
      ]
    },
    {
      "cell_type": "code",
      "metadata": {
        "id": "0sYH8IEtcLNj",
        "outputId": "4a35b765-d235-4e31-82f3-84c18800dee8",
        "colab": {
          "base_uri": "https://localhost:8080/"
        }
      },
      "source": [
        "# Logistic regression model (following the paper's hyperparameter selection)\n",
        "log_reg_model = LogisticRegression().fit(X_train_fe_zero, df_y_train.values.ravel())\n",
        "y_score = log_reg_model.predict_proba(X_test_fe_zero)\n",
        "metrics.roc_auc_score(df_y_test.values.ravel(), y_score[:,1])"
      ],
      "execution_count": 30,
      "outputs": [
        {
          "output_type": "execute_result",
          "data": {
            "text/plain": [
              "0.5602766798418973"
            ]
          },
          "metadata": {
            "tags": []
          },
          "execution_count": 30
        }
      ]
    },
    {
      "cell_type": "code",
      "metadata": {
        "id": "aHMvn6itcLT1",
        "outputId": "668e081c-1a40-43fa-e125-b5514be2be3b",
        "colab": {
          "base_uri": "https://localhost:8080/"
        }
      },
      "source": [
        "# SVM model (following the paper's hyperparameter selection)\n",
        "svm_model = svm.SVC(probability=True).fit(X_train_fe_zero, df_y_train.values.ravel())\n",
        "y_score = svm_model.predict_proba(X_test_fe_zero)\n",
        "metrics.roc_auc_score(df_y_test.values.ravel(), y_score[:,1])"
      ],
      "execution_count": 31,
      "outputs": [
        {
          "output_type": "execute_result",
          "data": {
            "text/plain": [
              "0.566205533596838"
            ]
          },
          "metadata": {
            "tags": []
          },
          "execution_count": 31
        }
      ]
    },
    {
      "cell_type": "code",
      "metadata": {
        "id": "BWmNgty5cL1V",
        "outputId": "6496d475-23c7-408c-ecb7-e676888926c1",
        "colab": {
          "base_uri": "https://localhost:8080/"
        }
      },
      "source": [
        "# Nueral net model (following the paper's hyperparameter selection, with the exception of added max_iter as model was not converging)\n",
        "mlp_model = MLPClassifier(solver='lbfgs', alpha=1e-5, hidden_layer_sizes=(5,2), random_state=0, max_iter=250).fit(X_train_fe_zero, df_y_train.values.ravel())\n",
        "y_score = mlp_model.predict_proba(X_test_fe_zero)\n",
        "metrics.roc_auc_score(df_y_test.values.ravel(), y_score[:,1])"
      ],
      "execution_count": 32,
      "outputs": [
        {
          "output_type": "execute_result",
          "data": {
            "text/plain": [
              "0.5205862977602109"
            ]
          },
          "metadata": {
            "tags": []
          },
          "execution_count": 32
        }
      ]
    },
    {
      "cell_type": "code",
      "metadata": {
        "id": "XO_zRrvLcLyG",
        "outputId": "1a0187d2-e282-4cd2-8835-643b203128ba",
        "colab": {
          "base_uri": "https://localhost:8080/"
        }
      },
      "source": [
        "# SGD model (following the paper's hyperparameter selection)\n",
        "sgd_model = SGDClassifier(loss=\"modified_huber\", penalty=\"l2\", max_iter=500, random_state=0).fit(X_train_fe_zero, df_y_train.values.ravel())\n",
        "y_score = sgd_model.predict_proba(X_test_fe_zero)\n",
        "metrics.roc_auc_score(df_y_test.values.ravel(), y_score[:,1])"
      ],
      "execution_count": 33,
      "outputs": [
        {
          "output_type": "execute_result",
          "data": {
            "text/plain": [
              "0.48221343873517786"
            ]
          },
          "metadata": {
            "tags": []
          },
          "execution_count": 33
        }
      ]
    },
    {
      "cell_type": "code",
      "metadata": {
        "id": "R5xmKNaBcLwn",
        "outputId": "ee421a9a-bab1-49b5-ddaf-97489a2fb880",
        "colab": {
          "base_uri": "https://localhost:8080/"
        }
      },
      "source": [
        "# XGBoost model (following the paper's hyperparameter selection)\n",
        "xgboost_model = XGBClassifier(random_state=0).fit(X_train_fe_zero, df_y_train.values.ravel())\n",
        "y_score = xgboost_model.predict_proba(X_test_fe_zero)\n",
        "metrics.roc_auc_score(df_y_test.values.ravel(), y_score[:,1])"
      ],
      "execution_count": 34,
      "outputs": [
        {
          "output_type": "execute_result",
          "data": {
            "text/plain": [
              "0.5658761528326746"
            ]
          },
          "metadata": {
            "tags": []
          },
          "execution_count": 34
        }
      ]
    },
    {
      "cell_type": "code",
      "metadata": {
        "id": "YZ79DKAAcLtL",
        "outputId": "bcce5c38-42ec-4280-f194-fab4f8f483d6",
        "colab": {
          "base_uri": "https://localhost:8080/"
        }
      },
      "source": [
        "# ADABoost model (following the paper's hyperparameter selection)\n",
        "ada_model = AdaBoostClassifier(n_estimators=100, random_state=0).fit(X_train_fe_zero, df_y_train.values.ravel())\n",
        "y_score = ada_model.predict_proba(X_test_fe_zero)\n",
        "metrics.roc_auc_score(df_y_test.values.ravel(), y_score[:,1])"
      ],
      "execution_count": 35,
      "outputs": [
        {
          "output_type": "execute_result",
          "data": {
            "text/plain": [
              "0.6320816864295125"
            ]
          },
          "metadata": {
            "tags": []
          },
          "execution_count": 35
        }
      ]
    },
    {
      "cell_type": "markdown",
      "metadata": {
        "id": "WHB7YtQZbS7b"
      },
      "source": [
        "##### WITH STRATIFIED SAMPLING IN TRAIN/TEST SPLIT #####"
      ]
    },
    {
      "cell_type": "code",
      "metadata": {
        "id": "ZaU5ZRlghaB8"
      },
      "source": [
        "# Create rescale hyperparamter list [0.1, 0.5, 1, 1.5,...,10.0]\n",
        "rescale_list1 = [0.1]\n",
        "rescale_list2 = np.linspace(0.5, 10, 20).tolist()\n",
        "rescale_list1.extend(rescale_list2)\n",
        "\n",
        "# Using scikit-learn's GridSearchCV (with 7-folds following the paper)\n",
        "# Did not try n_copies=4 because it took too much memory or too much time\n",
        "param_grid = {'rescale':rescale_list1, 'encoding':['amplit', 'stereo'], 'n_copies':[1, 2, 3], 'class_wgt':['equi', 'weighted']}\n",
        "models = model_selection.GridSearchCV(HQC_gpu(n_splits=100, dtype=torch.float64), param_grid, scoring='roc_auc', cv=7).fit(X_train_fe_zero, df_y_train.values.ravel())"
      ],
      "execution_count": 47,
      "outputs": []
    },
    {
      "cell_type": "code",
      "metadata": {
        "id": "EfYbn8t6JJkd",
        "outputId": "0df2e13f-178f-4e17-f995-b84c7a1c80eb",
        "colab": {
          "base_uri": "https://localhost:8080/"
        }
      },
      "source": [
        "# Best AUROC score\n",
        "best_model = models.best_estimator_\n",
        "y_score = best_model.predict_proba(X_test_fe_zero)\n",
        "metrics.roc_auc_score(df_y_test.values.ravel(), y_score[:,1])"
      ],
      "execution_count": 57,
      "outputs": [
        {
          "output_type": "execute_result",
          "data": {
            "text/plain": [
              "0.4801747311827957"
            ]
          },
          "metadata": {
            "tags": []
          },
          "execution_count": 57
        }
      ]
    },
    {
      "cell_type": "code",
      "metadata": {
        "id": "KDtfcSgWJPJC",
        "outputId": "9af44fd1-89ed-4689-9b9e-c6a074ec6dcd",
        "colab": {
          "base_uri": "https://localhost:8080/"
        }
      },
      "source": [
        "# Best hyperparameter combination\n",
        "models.best_params_"
      ],
      "execution_count": 48,
      "outputs": [
        {
          "output_type": "execute_result",
          "data": {
            "text/plain": [
              "{'class_wgt': 'equi', 'encoding': 'stereo', 'n_copies': 1, 'rescale': 8.0}"
            ]
          },
          "metadata": {
            "tags": []
          },
          "execution_count": 48
        }
      ]
    },
    {
      "cell_type": "code",
      "metadata": {
        "id": "lq7uovNJbw2q"
      },
      "source": [
        ""
      ],
      "execution_count": null,
      "outputs": []
    },
    {
      "cell_type": "code",
      "metadata": {
        "id": "rdJPOOOkbw95",
        "outputId": "87108412-4635-43c1-de8f-fa98d10b8296",
        "colab": {
          "base_uri": "https://localhost:8080/"
        }
      },
      "source": [
        "# Random forest model (following the paper's hyperparameter selection)\n",
        "rand_forest_model = RandomForestClassifier(n_estimators=100, bootstrap=True, max_features='sqrt', random_state=0).fit(X_train_fe_zero, df_y_train.values.ravel())\n",
        "y_score = rand_forest_model.predict_proba(X_test_fe_zero)\n",
        "metrics.roc_auc_score(df_y_test.values.ravel(), y_score[:,1])"
      ],
      "execution_count": 50,
      "outputs": [
        {
          "output_type": "execute_result",
          "data": {
            "text/plain": [
              "0.5336021505376344"
            ]
          },
          "metadata": {
            "tags": []
          },
          "execution_count": 50
        }
      ]
    },
    {
      "cell_type": "code",
      "metadata": {
        "id": "v19K-IWQbxAu",
        "outputId": "2a6f6407-e477-411c-9e27-f80a76f3616b",
        "colab": {
          "base_uri": "https://localhost:8080/"
        }
      },
      "source": [
        "# Logistic regression model (following the paper's hyperparameter selection)\n",
        "log_reg_model = LogisticRegression().fit(X_train_fe_zero, df_y_train.values.ravel())\n",
        "y_score = log_reg_model.predict_proba(X_test_fe_zero)\n",
        "metrics.roc_auc_score(df_y_test.values.ravel(), y_score[:,1])"
      ],
      "execution_count": 51,
      "outputs": [
        {
          "output_type": "execute_result",
          "data": {
            "text/plain": [
              "0.5766129032258065"
            ]
          },
          "metadata": {
            "tags": []
          },
          "execution_count": 51
        }
      ]
    },
    {
      "cell_type": "code",
      "metadata": {
        "id": "liw1TlLvbxE1",
        "outputId": "e075d702-ec65-4e40-a5dd-1cb57703d2fb",
        "colab": {
          "base_uri": "https://localhost:8080/"
        }
      },
      "source": [
        "# SVM model (following the paper's hyperparameter selection)\n",
        "svm_model = svm.SVC(probability=True).fit(X_train_fe_zero, df_y_train.values.ravel())\n",
        "y_score = svm_model.predict_proba(X_test_fe_zero)\n",
        "metrics.roc_auc_score(df_y_test.values.ravel(), y_score[:,1])"
      ],
      "execution_count": 52,
      "outputs": [
        {
          "output_type": "execute_result",
          "data": {
            "text/plain": [
              "0.48588709677419356"
            ]
          },
          "metadata": {
            "tags": []
          },
          "execution_count": 52
        }
      ]
    },
    {
      "cell_type": "code",
      "metadata": {
        "id": "Utkfr_-hbxQT",
        "outputId": "90e8f6a0-955e-4906-ad51-c75637889822",
        "colab": {
          "base_uri": "https://localhost:8080/"
        }
      },
      "source": [
        "# Nueral net model (following the paper's hyperparameter selection)\n",
        "mlp_model = MLPClassifier(solver='lbfgs', alpha=1e-5, hidden_layer_sizes=(5,2), random_state=0).fit(X_train_fe_zero, df_y_train.values.ravel())\n",
        "y_score = mlp_model.predict_proba(X_test_fe_zero)\n",
        "metrics.roc_auc_score(df_y_test.values.ravel(), y_score[:,1])"
      ],
      "execution_count": 53,
      "outputs": [
        {
          "output_type": "execute_result",
          "data": {
            "text/plain": [
              "0.5047043010752688"
            ]
          },
          "metadata": {
            "tags": []
          },
          "execution_count": 53
        }
      ]
    },
    {
      "cell_type": "code",
      "metadata": {
        "id": "ascNqtEmbxVz",
        "outputId": "1fc05534-b064-4a07-88a7-b48460959ca1",
        "colab": {
          "base_uri": "https://localhost:8080/"
        }
      },
      "source": [
        "# SGD model (following the paper's hyperparameter selection)\n",
        "sgd_model = SGDClassifier(loss=\"modified_huber\", penalty=\"l2\", max_iter=500, random_state=0).fit(X_train_fe_zero, df_y_train.values.ravel())\n",
        "y_score = sgd_model.predict_proba(X_test_fe_zero)\n",
        "metrics.roc_auc_score(df_y_test.values.ravel(), y_score[:,1])"
      ],
      "execution_count": 54,
      "outputs": [
        {
          "output_type": "execute_result",
          "data": {
            "text/plain": [
              "0.4512768817204301"
            ]
          },
          "metadata": {
            "tags": []
          },
          "execution_count": 54
        }
      ]
    },
    {
      "cell_type": "code",
      "metadata": {
        "id": "th2JCgGTbxZp",
        "outputId": "5c59fc2d-2cae-4afe-bc45-4781b3aff59e",
        "colab": {
          "base_uri": "https://localhost:8080/"
        }
      },
      "source": [
        "# XGBoost model (following the paper's hyperparameter selection)\n",
        "xgboost_model = XGBClassifier(random_state=0).fit(X_train_fe_zero, df_y_train.values.ravel())\n",
        "y_score = xgboost_model.predict_proba(X_test_fe_zero)\n",
        "metrics.roc_auc_score(df_y_test.values.ravel(), y_score[:,1])"
      ],
      "execution_count": 55,
      "outputs": [
        {
          "output_type": "execute_result",
          "data": {
            "text/plain": [
              "0.6129032258064516"
            ]
          },
          "metadata": {
            "tags": []
          },
          "execution_count": 55
        }
      ]
    },
    {
      "cell_type": "code",
      "metadata": {
        "id": "9AZwrG22bxdf",
        "outputId": "3191be14-f28b-45f3-a42b-942183aed610",
        "colab": {
          "base_uri": "https://localhost:8080/"
        }
      },
      "source": [
        "# ADABoost model (following the paper's hyperparameter selection)\n",
        "ada_model = AdaBoostClassifier(n_estimators=100, random_state=0).fit(X_train_fe_zero, df_y_train.values.ravel())\n",
        "y_score = ada_model.predict_proba(X_test_fe_zero)\n",
        "metrics.roc_auc_score(df_y_test.values.ravel(), y_score[:,1])"
      ],
      "execution_count": 56,
      "outputs": [
        {
          "output_type": "execute_result",
          "data": {
            "text/plain": [
              "0.6320564516129032"
            ]
          },
          "metadata": {
            "tags": []
          },
          "execution_count": 56
        }
      ]
    },
    {
      "cell_type": "code",
      "metadata": {
        "id": "g3PDuvSnJJnv"
      },
      "source": [
        ""
      ],
      "execution_count": null,
      "outputs": []
    }
  ]
}